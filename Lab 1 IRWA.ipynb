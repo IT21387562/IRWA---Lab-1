{
  "metadata": {
    "language_info": {
      "codemirror_mode": {
        "name": "python",
        "version": 3
      },
      "file_extension": ".py",
      "mimetype": "text/x-python",
      "name": "python",
      "nbconvert_exporter": "python",
      "pygments_lexer": "ipython3",
      "version": "3.8"
    },
    "kernelspec": {
      "name": "python",
      "display_name": "Python (Pyodide)",
      "language": "python"
    }
  },
  "nbformat_minor": 4,
  "nbformat": 4,
  "cells": [
    {
      "cell_type": "code",
      "source": "teams = [\"India\", \"England\", \"NZ\", \"Aus\"]\ncaptains = [\"Kohli\",\"Root\",\"Williaamson\", \"Smith\"]\n\nzipped = zip(teams, captains)\nzipped_list = list(zipped)\nzipped_list\n",
      "metadata": {
        "trusted": true
      },
      "execution_count": 4,
      "outputs": [
        {
          "execution_count": 4,
          "output_type": "execute_result",
          "data": {
            "text/plain": "[('India', 'Kohli'),\n ('England', 'Root'),\n ('NZ', 'Williaamson'),\n ('Aus', 'Smith')]"
          },
          "metadata": {}
        }
      ]
    },
    {
      "cell_type": "code",
      "source": "teams = [\"India\", \"England\", \"NZ\", \"Aus\"]\ncaptains = [\"Kohli\",\"Root\",\"Williaamson\", \"Smith\"]\n\nzipped = zip(teams, captains)\nzipped_dict = dict(zipped)\nzipped_dict\n",
      "metadata": {
        "trusted": true
      },
      "execution_count": 2,
      "outputs": [
        {
          "execution_count": 2,
          "output_type": "execute_result",
          "data": {
            "text/plain": "{'India': 'Kohli', 'England': 'Root', 'NZ': 'Williaamson', 'Aus': 'Smith'}"
          },
          "metadata": {}
        }
      ]
    },
    {
      "cell_type": "code",
      "source": "books= [\"textbooks\", \"exercise books\", \"story book\", \"drawing books\"]\nprices = [100,60,90,70]\nquantities = [3,2,1,4]\n\nfor x,y,z in zip(quantities, books, prices):\n    total = x*z\n    print(f\"You brought {x} {y} for ${total}\")\n    ",
      "metadata": {
        "trusted": true
      },
      "execution_count": 8,
      "outputs": [
        {
          "name": "stdout",
          "text": "You brought 3 textbooks for $300\nYou brought 2 exercise books for $120\nYou brought 1 story book for $90\nYou brought 4 drawing books for $280\n",
          "output_type": "stream"
        }
      ]
    },
    {
      "cell_type": "code",
      "source": "List1 = [2,4,6,8,10]\n\nfor i in range(len(List1)):\n    List1[i] +=10\n    \nprint(List1)",
      "metadata": {
        "trusted": true
      },
      "execution_count": 10,
      "outputs": [
        {
          "name": "stdout",
          "text": "[12, 14, 16, 18, 20]\n",
          "output_type": "stream"
        }
      ]
    },
    {
      "cell_type": "code",
      "source": "List1 = [2,4,6,8,10]\n\nx = [i+10 for i in List1]\nprint(x)",
      "metadata": {
        "trusted": true
      },
      "execution_count": 12,
      "outputs": [
        {
          "name": "stdout",
          "text": "[12, 14, 16, 18, 20]\n",
          "output_type": "stream"
        }
      ]
    },
    {
      "cell_type": "code",
      "source": "list1 = [10, 20, 30, 40]\nlist2 = [\"Apples\", \"Mangoes\", \"Oranges\", \"Grapes\"]\n\nfor l1, l2 in zip(list1, reversed(list2)):\n    print(f\"{l1} {l2}\")\n\n",
      "metadata": {
        "trusted": true
      },
      "execution_count": 14,
      "outputs": [
        {
          "name": "stdout",
          "text": "10 Grapes\n20 Oranges\n30 Mangoes\n40 Apples\n",
          "output_type": "stream"
        }
      ]
    },
    {
      "cell_type": "code",
      "source": "list1 = [\"a\", \"b\", [\"c\", [\"d\", \"e\", [\"f\", \"g\"], \"k\"], \"l\"], \"m\", \"n\"]\nsub_list = [\"h\", \"i\", \"j\"]\n\nlist1[2][1][2].extend(sub_list)\nprint(list1)\n",
      "metadata": {
        "trusted": true
      },
      "execution_count": 18,
      "outputs": [
        {
          "name": "stdout",
          "text": "['a', 'b', ['c', ['d', 'e', ['f', 'g', 'h', 'i', 'j'], 'k'], 'l'], 'm', 'n']\n",
          "output_type": "stream"
        }
      ]
    },
    {
      "cell_type": "code",
      "source": "list1 = [\"a\", \"b\", [\"c\", [\"d\", \"e\", [\"f\", \"g\"], \"k\"], \"l\"], \"m\", \"n\"]\nsub_list = [\"h\", \"i\", \"j\"]\n\nlist1[2][1][2].append(sub_list)\nprint(list1)",
      "metadata": {
        "trusted": true
      },
      "execution_count": 21,
      "outputs": [
        {
          "name": "stdout",
          "text": "['a', 'b', ['c', ['d', 'e', ['f', 'g', ['h', 'i', 'j']], 'k'], 'l'], 'm', 'n']\n",
          "output_type": "stream"
        }
      ]
    },
    {
      "cell_type": "code",
      "source": "List1= [10,15,20,15,32,54,15]\n\nList1 = [item for item in List1 if item != 15]\n\nprint(List1)",
      "metadata": {
        "trusted": true
      },
      "execution_count": 22,
      "outputs": [
        {
          "name": "stdout",
          "text": "[10, 20, 32, 54]\n",
          "output_type": "stream"
        }
      ]
    },
    {
      "cell_type": "code",
      "source": "List1= [10,15,20,15,32,54,15]\n\nfor i in List1:\n    if i == 15:\n        List1.remove(i)\n        \nprint(List1)",
      "metadata": {
        "trusted": true
      },
      "execution_count": 23,
      "outputs": [
        {
          "name": "stdout",
          "text": "[10, 20, 32, 54]\n",
          "output_type": "stream"
        }
      ]
    },
    {
      "cell_type": "code",
      "source": "List1= [10,15,20,15,32,54,15]\n\nwhile 15 in List1:\n    List1.remove(15)\n    \nprint(List1)",
      "metadata": {
        "trusted": true
      },
      "execution_count": 24,
      "outputs": [
        {
          "name": "stdout",
          "text": "[10, 20, 32, 54]\n",
          "output_type": "stream"
        }
      ]
    },
    {
      "cell_type": "code",
      "source": "dict_1 = {'John': 15, 'Rick': 10, 'Misa': 12}\ndict_2 = {'Bonnie': 18,'Rick': 20,'Matt': 16}\n\ndict_1.update(dict_2)\nprint(dict_1)",
      "metadata": {
        "trusted": true
      },
      "execution_count": 25,
      "outputs": [
        {
          "name": "stdout",
          "text": "{'John': 15, 'Rick': 20, 'Misa': 12, 'Bonnie': 18, 'Matt': 16}\n",
          "output_type": "stream"
        }
      ]
    },
    {
      "cell_type": "code",
      "source": "d = {0: 0, 1: 1, 2: 2, 3: 3}\n\nk_old = 0\nk_new = 4\n\nd[k_new]=d.pop(k_old)\nprint(d)",
      "metadata": {
        "trusted": true
      },
      "execution_count": 26,
      "outputs": [
        {
          "name": "stdout",
          "text": "{1: 1, 2: 2, 3: 3, 4: 0}\n",
          "output_type": "stream"
        }
      ]
    },
    {
      "cell_type": "code",
      "source": "country=[\"USA\",\"France\",\"India\"]\ncapital= [\"Washington D.C.\",\"Paris\",\"New Delhi\"]\n\nzipped = zip(country, capital)\nzip_dict = dict(zipped)\nprint(zip_dict)",
      "metadata": {
        "trusted": true
      },
      "execution_count": 28,
      "outputs": [
        {
          "name": "stdout",
          "text": "{'USA': 'Washington D.C.', 'France': 'Paris', 'India': 'New Delhi'}\n",
          "output_type": "stream"
        }
      ]
    },
    {
      "cell_type": "code",
      "source": "My_dict = {\"Fruit\": \"Pear\",\n\"Vegetable\": \"Carrot\",\n\"Pet\": \"Cat\",\n\"Book\": \"Moby dick\",\n\"Crystal\": \"Amethyst\"}\n\nkeysToRemove = [\"Book\", \"Crystal\"]\n\nMy_dict.pop(\"Book\")\nMy_dict.pop(\"Crystal\")\n\nprint(My_dict)",
      "metadata": {
        "trusted": true
      },
      "execution_count": 31,
      "outputs": [
        {
          "name": "stdout",
          "text": "{'Fruit': 'Pear', 'Vegetable': 'Carrot', 'Pet': 'Cat'}\n",
          "output_type": "stream"
        }
      ]
    },
    {
      "cell_type": "code",
      "source": "My_dict = {\"Fruit\": \"Pear\",\n\"Vegetable\": \"Carrot\",\n\"Pet\": \"Cat\",\n\"Book\": \"Moby dick\",\n\"Crystal\": \"Amethyst\"}\n\nkeysToRemove = [\"Book\", \"Crystal\"]\n\nfor i in keysToRemove:\n    My_dict.pop(i)\n    \nprint(My_dict)\n",
      "metadata": {
        "trusted": true
      },
      "execution_count": 32,
      "outputs": [
        {
          "name": "stdout",
          "text": "{'Fruit': 'Pear', 'Vegetable': 'Carrot', 'Pet': 'Cat'}\n",
          "output_type": "stream"
        }
      ]
    },
    {
      "cell_type": "code",
      "source": "sub_dict = {'math' : 100, 'chem' : 98, 'sci' : 100,'eng':100}\nkey_to_extract = {'math', 'chem','sci'}\n\nextracted_dict = {key : sub_dict[key] for key in key_to_extract}\n\nprint(\"extracted key-value from dictionary:\", extracted_dict)\n",
      "metadata": {
        "trusted": true
      },
      "execution_count": 36,
      "outputs": [
        {
          "name": "stdout",
          "text": "extracted key-value from dictionary: {'sci': 100, 'chem': 98, 'math': 100}\n",
          "output_type": "stream"
        }
      ]
    },
    {
      "cell_type": "code",
      "source": "list1 = [12, 15, 32, 42, 55, 75, 122, 132, 150, 180, 200]\nlist2 = []\nfor i in list1:\n    if i % 5 == 0:\n     list2.append(i)\n    \nprint(list2)\n    ",
      "metadata": {
        "trusted": true
      },
      "execution_count": 45,
      "outputs": [
        {
          "name": "stdout",
          "text": "[15, 55, 75, 150, 180, 200]\n",
          "output_type": "stream"
        }
      ]
    },
    {
      "cell_type": "code",
      "source": "numbers = [12, 75, 150, 180, 145, 525, 50]\n\nfor i in numbers:\n    if i % 5 == 0:\n        if i > 500:\n            break\n        elif i > 150:\n            continue\n        print(i)\n        \n       \n    \n        \n       \n    \n     \n ",
      "metadata": {
        "trusted": true
      },
      "execution_count": 57,
      "outputs": [
        {
          "name": "stdout",
          "text": "75\n150\n145\n",
          "output_type": "stream"
        }
      ]
    },
    {
      "cell_type": "code",
      "source": "numbers = [12, 75, 150, 180, 145, 525, 50]\n\n \n\nfor i in numbers:\n    if i % 5 == 0:\n        if i > 500:\n            break\n        elif i > 150:\n            continue\n        print(i)",
      "metadata": {
        "trusted": true
      },
      "execution_count": 55,
      "outputs": [
        {
          "name": "stdout",
          "text": "75\n150\n145\n",
          "output_type": "stream"
        }
      ]
    },
    {
      "cell_type": "code",
      "source": "def count_characters(s):\n    upper_count = 0\n    lower_count = 0\n    num_count = 0\n    special_count = 0\n    \n    for char in s:\n        if char.isupper():\n            upper_count += 1\n        elif char.islower():\n            lower_count += 1\n        elif char.isdigit():\n            num_count += 1\n        else:\n            special_count += 1\n        \n    return upper_count, lower_count, num_count, special_count\n\ninput_string = \"@W3Resource.Com\"\nupper, lower, number, special = count_characters(input_string)\n\nprint(\"Original Substring =\", input_string)\nprint(\"Upper case characters:\", upper)\nprint(\"Lower case characters:\", lower)\nprint(\"Number case:\", number)\nprint(\"Special case characters:\", special)\n        \n    ",
      "metadata": {
        "trusted": true
      },
      "execution_count": 62,
      "outputs": [
        {
          "name": "stdout",
          "text": "Original Substring = @W3Resource.Com\nUpper case characters: 3\nLower case characters: 9\nNumber case: 1\nSpecial case characters: 2\n",
          "output_type": "stream"
        }
      ]
    },
    {
      "cell_type": "code",
      "source": "def count_characters(s):\n    upper_count = 0\n    lower_count = 0\n    number_count = 0\n    special_count = 0\n\n    for char in s:\n        if char.isupper():\n            upper_count += 1\n        elif char.islower():\n            lower_count += 1\n        elif char.isdigit():\n            number_count += 1\n        else:\n            special_count += 1\n\n    return upper_count, lower_count, number_count, special_count\n\n\ninput_string = \"@W3Resource.Com\"\nupper, lower, number, special = count_characters(input_string)\n\nprint(\"Original Substring =\", input_string)\nprint(\"Upper case characters:\", upper)\nprint(\"Lower case characters:\", lower)\nprint(\"Number case:\", number)\nprint(\"Special case characters:\", special)",
      "metadata": {
        "trusted": true
      },
      "execution_count": 60,
      "outputs": [
        {
          "name": "stdout",
          "text": "Original Substring = @W3Resource.Com\nUpper case characters: 3\nLower case characters: 9\nNumber case: 1\nSpecial case characters: 2\n",
          "output_type": "stream"
        }
      ]
    },
    {
      "cell_type": "code",
      "source": "def count_characters(s):\n    upper_count = 0\n    lower_count = 0\n    number_count = 0\n    special_count = 0\n\n    for char in s:\n        if char.isupper():\n            upper_count += 1\n        elif char.islower():\n            lower_count += 1\n        elif char.isdigit():\n            number_count += 1\n        else:\n            special_count += 1\n\n    return upper_count, lower_count, number_count, special_count\n\n\ninput_string = \"@W3Resource.Com\"\nupper, lower, number, special = count_characters(input_string)\n\nprint(\"Original Substring =\", input_string)\nprint(\"Upper case characters:\", upper)\nprint(\"Lower case characters:\", lower)\nprint(\"Number case:\", number)\nprint(\"Special case characters:\", special)",
      "metadata": {
        "trusted": true
      },
      "execution_count": 60,
      "outputs": [
        {
          "name": "stdout",
          "text": "Original Substring = @W3Resource.Com\nUpper case characters: 3\nLower case characters: 9\nNumber case: 1\nSpecial case characters: 2\n",
          "output_type": "stream"
        }
      ]
    },
    {
      "cell_type": "code",
      "source": "def calculate_series_sum(n):\n    term = 2\n    series_sum = 0\n\n    for i in range(1, n + 1):\n        series_sum += term\n        print(term, end=\"+\")\n        term = term * 10 + 2\n\n    return series_sum\n\n\nn = 5\nresult = calculate_series_sum(n)\n\nprint(\"\\nSum of above series is:\", result)",
      "metadata": {
        "trusted": true
      },
      "execution_count": 63,
      "outputs": [
        {
          "name": "stdout",
          "text": "2+22+222+2222+22222+\nSum of above series is: 24690\n",
          "output_type": "stream"
        }
      ]
    },
    {
      "cell_type": "code",
      "source": "",
      "metadata": {},
      "execution_count": null,
      "outputs": []
    }
  ]
}