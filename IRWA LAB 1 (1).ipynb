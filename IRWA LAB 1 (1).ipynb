{
 "cells": [
  {
   "cell_type": "markdown",
   "id": "b266a544",
   "metadata": {},
   "source": [
    "# Q1"
   ]
  },
  {
   "cell_type": "code",
   "execution_count": 8,
   "id": "6b50a5f3",
   "metadata": {},
   "outputs": [
    {
     "data": {
      "text/plain": [
       "[('India', 'Kohli'),\n",
       " ('England', 'Root'),\n",
       " ('NZ', 'Williaamson'),\n",
       " ('Aus', 'Smith')]"
      ]
     },
     "execution_count": 8,
     "metadata": {},
     "output_type": "execute_result"
    }
   ],
   "source": [
    "# 1). Concatenate two lists index-wise\n",
    "# teams = [\"India\", \"England\", \"NZ\", \"Aus\"]\n",
    "# captains = [\"Kohli\",\"Root\",\"Williaamson\", \"Smith\"]\n",
    "# Answer1: [('India', 'Kohli'), ('England', 'Root'), ('NZ', 'Williaamson'), ('Aus', 'Smith')]\n",
    "# Answer2: {'India': 'Kohli', 'England': 'Root', 'NZ': 'Williaamson','Aus': 'Smith'}\n",
    "\n",
    "teams = [\"India\", \"England\", \"NZ\", \"Aus\"]\n",
    "captains = [\"Kohli\",\"Root\",\"Williaamson\", \"Smith\"]\n",
    "\n",
    "#list\n",
    "# Answer1: [('India', 'Kohli'), ('England', 'Root'), ('NZ', 'Williaamson'), ('Aus', 'Smith')]\n",
    "zipped = zip(teams,captains)\n",
    "new_list = list(zipped)\n",
    "new_list\n",
    "\n"
   ]
  },
  {
   "cell_type": "code",
   "execution_count": 7,
   "id": "f12694f3",
   "metadata": {},
   "outputs": [
    {
     "data": {
      "text/plain": [
       "{'India': 'Kohli', 'England': 'Root', 'NZ': 'Williaamson', 'Aus': 'Smith'}"
      ]
     },
     "execution_count": 7,
     "metadata": {},
     "output_type": "execute_result"
    }
   ],
   "source": [
    "#dict\n",
    "# Answer2: {'India': 'Kohli', 'England': 'Root', 'NZ': 'Williaamson','Aus': 'Smith'}\n",
    "zip1 = zip(teams,captains)\n",
    "new_dict = dict(zip1)\n",
    "new_dict"
   ]
  },
  {
   "cell_type": "markdown",
   "id": "7f9d3941",
   "metadata": {},
   "source": [
    "# Q2"
   ]
  },
  {
   "cell_type": "code",
   "execution_count": 9,
   "id": "1c0f4141",
   "metadata": {},
   "outputs": [],
   "source": [
    "# 2) Given a list of books, their prices, and the quantities that you purchased, print out the total\n",
    "# amount spent on each item.\n",
    "# books= [\"textbooks\", \"exercise books\", \"story book\", \"drawing books\"]\n",
    "# prices = [100,60,90,70]\n",
    "# quantities = [3,2,1,4]\n",
    "# Answer:\n",
    "# You bought 3 textbooks for $300\n",
    "# You bought 2 exercise books for $120\n",
    "# You bought 1 story book for $90\n",
    "# You bought 4 drawing books for $280"
   ]
  },
  {
   "cell_type": "code",
   "execution_count": 14,
   "id": "56d19f6a",
   "metadata": {},
   "outputs": [
    {
     "name": "stdout",
     "output_type": "stream",
     "text": [
      "You brought 3 textbooks for $300\n",
      "You brought 2 exercise books for $120\n",
      "You brought 1 story book for $90\n",
      "You brought 4 drawing books for $280\n"
     ]
    }
   ],
   "source": [
    "books= [\"textbooks\", \"exercise books\", \"story book\", \"drawing books\"]\n",
    "prices = [100,60,90,70]\n",
    "quantities = [3,2,1,4]\n",
    "\n",
    "zipped = zip(books,prices,quantities)\n",
    "\n",
    "for x,y,z in zipped:\n",
    "    total=y*z\n",
    "    print(f\"You brought {z} {x} for ${total}\")"
   ]
  },
  {
   "cell_type": "markdown",
   "id": "a0ee3937",
   "metadata": {},
   "source": [
    "# Q3"
   ]
  },
  {
   "cell_type": "code",
   "execution_count": 15,
   "id": "4320ecef",
   "metadata": {},
   "outputs": [],
   "source": [
    "# 3) Given a Python list. Add 10 to each item of the list 1.\n",
    "# List 1 = [2,4,6,8,10]\n",
    "# Answer: [12, 14, 16, 18, 20]"
   ]
  },
  {
   "cell_type": "code",
   "execution_count": 19,
   "id": "a332661b",
   "metadata": {},
   "outputs": [
    {
     "name": "stdout",
     "output_type": "stream",
     "text": [
      "12\n",
      "14\n",
      "16\n",
      "18\n",
      "20\n"
     ]
    }
   ],
   "source": [
    "List1 = [2,4,6,8,10]\n",
    "\n",
    "for value in List1:\n",
    "    print(value+10)"
   ]
  },
  {
   "cell_type": "code",
   "execution_count": 22,
   "id": "1a18427f",
   "metadata": {},
   "outputs": [
    {
     "name": "stdout",
     "output_type": "stream",
     "text": [
      "[12, 14, 16, 18, 20]\n"
     ]
    }
   ],
   "source": [
    "List1 = [2,4,6,8,10]\n",
    "\n",
    "x =[i+10 for i in List1]\n",
    "\n",
    "print(x)"
   ]
  },
  {
   "cell_type": "markdown",
   "id": "e1a148a7",
   "metadata": {},
   "source": [
    "# Q4"
   ]
  },
  {
   "cell_type": "code",
   "execution_count": 23,
   "id": "77e60c63",
   "metadata": {},
   "outputs": [],
   "source": [
    "# 4) Given a two Python list. Write a program to iterate both lists simultaneously and display items\n",
    "# from list1 in original order and items from list2 in reverse order\n",
    "# list1 = [10, 20, 30, 40]\n",
    "# list2 = [\"Apples\", \"Mangoes\", \"Oranges\", \"Grapes\"]\n",
    "# Answer:\n",
    "# 10 Grapes\n",
    "# 20 Oranges\n",
    "# 30 Mangoes\n",
    "# 40 Apples"
   ]
  },
  {
   "cell_type": "code",
   "execution_count": 25,
   "id": "5e192408",
   "metadata": {},
   "outputs": [
    {
     "name": "stdout",
     "output_type": "stream",
     "text": [
      "10 Grapes\n",
      "20 Oranges\n",
      "30 Mangoes\n",
      "40 Apples\n"
     ]
    }
   ],
   "source": [
    "list1 = [10, 20, 30, 40]\n",
    "list2 = [\"Apples\", \"Mangoes\", \"Oranges\", \"Grapes\"]\n",
    "\n",
    "zipped = zip(list1,reversed(list2))\n",
    "\n",
    "for l1,l2 in zipped:\n",
    "    print(f\"{l1} {l2}\")"
   ]
  },
  {
   "cell_type": "markdown",
   "id": "35613080",
   "metadata": {},
   "source": [
    "# Q5"
   ]
  },
  {
   "cell_type": "code",
   "execution_count": 26,
   "id": "6ddc83e7",
   "metadata": {},
   "outputs": [],
   "source": [
    "# 5) Given a nested list extend it with adding sub list [\"h\", \"i\", \"j\"] in a such a way that it will look\n",
    "# like the following list\n",
    "# list1 = [\"a\", \"b\", [\"c\", [\"d\", \"e\", [\"f\", \"g\"], \"k\"], \"l\"], \"m\", \"n\"]\n",
    "#  sub_list = [\"h\", \"i\", \"j\"]\n",
    "# Answer1:\n",
    "# ['a', 'b', ['c', ['d', 'e', ['f', 'g', 'h', 'i', 'j'], 'k'], 'l'], 'm', 'n']\n",
    "# Answer2:\n",
    "# ['a', 'b', ['c', ['d', 'e', ['f', 'g', ['h', 'i', 'j']], 'k'], 'l'], 'm','n']"
   ]
  },
  {
   "cell_type": "code",
   "execution_count": 28,
   "id": "c6e519e7",
   "metadata": {},
   "outputs": [
    {
     "data": {
      "text/plain": [
       "['a', 'b', ['c', ['d', 'e', ['f', 'g', 'h', 'i', 'j'], 'k'], 'l'], 'm', 'n']"
      ]
     },
     "execution_count": 28,
     "metadata": {},
     "output_type": "execute_result"
    }
   ],
   "source": [
    "#Answer 1\n",
    "\n",
    "list1 = [\"a\", \"b\", [\"c\", [\"d\", \"e\", [\"f\", \"g\"], \"k\"], \"l\"], \"m\", \"n\"]\n",
    "sub_list = [\"h\", \"i\", \"j\"]\n",
    "\n",
    "\n",
    "#Join as normal values\n",
    "list1[2][1][2].extend(sub_list)\n",
    "list1\n"
   ]
  },
  {
   "cell_type": "code",
   "execution_count": 29,
   "id": "9725e15b",
   "metadata": {},
   "outputs": [
    {
     "data": {
      "text/plain": [
       "['a', 'b', ['c', ['d', 'e', ['f', 'g', ['h', 'i', 'j']], 'k'], 'l'], 'm', 'n']"
      ]
     },
     "execution_count": 29,
     "metadata": {},
     "output_type": "execute_result"
    }
   ],
   "source": [
    "#Answer 2\n",
    "\n",
    "list1 = [\"a\", \"b\", [\"c\", [\"d\", \"e\", [\"f\", \"g\"], \"k\"], \"l\"], \"m\", \"n\"]\n",
    "sub_list = [\"h\", \"i\", \"j\"]\n",
    "\n",
    "#Join as a list\n",
    "list1[2][1][2].append(sub_list)\n",
    "list1"
   ]
  },
  {
   "cell_type": "markdown",
   "id": "4077d19d",
   "metadata": {},
   "source": [
    "# Q6"
   ]
  },
  {
   "cell_type": "code",
   "execution_count": 30,
   "id": "414f6332",
   "metadata": {},
   "outputs": [],
   "source": [
    "# 6) Given a Python list, write a program to remove all occurrences of item 15.\n",
    "# List1= [10,15,20,15,32,54,15]\n",
    "# Answer = [10,20,32,54]"
   ]
  },
  {
   "cell_type": "code",
   "execution_count": 31,
   "id": "0029eb24",
   "metadata": {},
   "outputs": [
    {
     "data": {
      "text/plain": [
       "[10, 20, 32, 54]"
      ]
     },
     "execution_count": 31,
     "metadata": {},
     "output_type": "execute_result"
    }
   ],
   "source": [
    "List1= [10,15,20,15,32,54,15]\n",
    "\n",
    "for i in List1:\n",
    "    if i == 15:\n",
    "        List1.remove(i)\n",
    "List1"
   ]
  },
  {
   "cell_type": "markdown",
   "id": "682878af",
   "metadata": {},
   "source": [
    "# Q7"
   ]
  },
  {
   "cell_type": "code",
   "execution_count": 32,
   "id": "bc1b8367",
   "metadata": {},
   "outputs": [],
   "source": [
    "# 7) Merge following two Python dictionaries into one\n",
    "# dict_1 = {'John': 15, 'Rick': 10, 'Misa': 12}\n",
    "# dict_2 = {'Bonnie': 18,'Rick': 20,'Matt': 16}\n",
    "# Answer: {'John': 15, 'Rick': 20, 'Misa': 12, 'Bonnie': 18, 'Matt':16}"
   ]
  },
  {
   "cell_type": "code",
   "execution_count": 40,
   "id": "a833b697",
   "metadata": {},
   "outputs": [
    {
     "data": {
      "text/plain": [
       "{'John': 15, 'Rick': 20, 'Misa': 12, 'Bonnie': 18, 'Matt': 16}"
      ]
     },
     "execution_count": 40,
     "metadata": {},
     "output_type": "execute_result"
    }
   ],
   "source": [
    "dict_1 = {'John': 15, 'Rick': 10, 'Misa': 12}\n",
    "dict_2 = {'Bonnie': 18,'Rick': 20,'Matt': 16}\n",
    "\n",
    "#Update with new value\n",
    "dict_1.update(dict_2)\n",
    "dict_1"
   ]
  },
  {
   "cell_type": "code",
   "execution_count": 41,
   "id": "f82b2fc2",
   "metadata": {},
   "outputs": [
    {
     "data": {
      "text/plain": [
       "{'John': 15, 'Rick': 20, 'Misa': 12, 'Bonnie': 18, 'Matt': 16}"
      ]
     },
     "execution_count": 41,
     "metadata": {},
     "output_type": "execute_result"
    }
   ],
   "source": [
    "#Use unpack operator\n",
    "\n",
    "dict_1 = {'John': 15, 'Rick': 10, 'Misa': 12}\n",
    "dict_2 = {'Bonnie': 18,'Rick': 20,'Matt': 16}\n",
    "\n",
    "dict_3 = {**dict_1,**dict_2}\n",
    "dict_3\n"
   ]
  },
  {
   "cell_type": "markdown",
   "id": "b8920099",
   "metadata": {},
   "source": [
    "# Q8"
   ]
  },
  {
   "cell_type": "code",
   "execution_count": 34,
   "id": "8da1fb90",
   "metadata": {},
   "outputs": [],
   "source": [
    "# 8) Change the key of the first entry from 0 to 4 in the following dictionary\n",
    "# d = {0: 0, 1: 1, 2: 2, 3: 3}\n",
    "# Answer = {1: 1, 2: 2, 3: 3, 4: 0}\n"
   ]
  },
  {
   "cell_type": "code",
   "execution_count": 42,
   "id": "86279cc2",
   "metadata": {},
   "outputs": [
    {
     "name": "stdout",
     "output_type": "stream",
     "text": [
      "{1: 1, 2: 2, 3: 3, 4: 0}\n"
     ]
    }
   ],
   "source": [
    "d = {0: 0, 1: 1, 2: 2, 3: 3}\n",
    "Answer = {1: 1, 2: 2, 3: 3, 4: 0}\n",
    "\n",
    "k_old = 0\n",
    "k_new = 4\n",
    "\n",
    "# assign the value of old key (k_old) \"0\" to the new key (k_new) position \"4\"\n",
    "d[k_new]=d.pop(k_old)\n",
    "\n",
    "print(d)"
   ]
  },
  {
   "cell_type": "code",
   "execution_count": 43,
   "id": "e49397df",
   "metadata": {},
   "outputs": [
    {
     "data": {
      "text/plain": [
       "{1: 1, 2: 2, 3: 3, 4: 0}"
      ]
     },
     "execution_count": 43,
     "metadata": {},
     "output_type": "execute_result"
    }
   ],
   "source": [
    "d = {0: 0, 1: 1, 2: 2, 3: 3}\n",
    "Answer = {1: 1, 2: 2, 3: 3, 4: 0}\n",
    "\n",
    "# assign the value of old key \"0\" to the new key [4] position\n",
    "d[4]=d.pop(0)\n",
    "d"
   ]
  },
  {
   "cell_type": "markdown",
   "id": "9462160d",
   "metadata": {},
   "source": [
    "# Q9"
   ]
  },
  {
   "cell_type": "code",
   "execution_count": 36,
   "id": "6005343d",
   "metadata": {},
   "outputs": [],
   "source": [
    "# 9) Theses two lists convert it into the dictionary\n",
    "# country=[\"USA\",\"France\",\"India\"]\n",
    "# capital= [\"Washington D.C.\",\"Paris\",\"New Delhi\"]\n",
    "# Answer= {'USA': 'Washington D.C.', 'France': 'Paris', 'India': 'New Delhi'}"
   ]
  },
  {
   "cell_type": "code",
   "execution_count": 44,
   "id": "f1fd32d7",
   "metadata": {},
   "outputs": [
    {
     "data": {
      "text/plain": [
       "{'USA': 'Washington D.C.', 'France': 'Paris', 'India': 'New Delhi'}"
      ]
     },
     "execution_count": 44,
     "metadata": {},
     "output_type": "execute_result"
    }
   ],
   "source": [
    "country=[\"USA\",\"France\",\"India\"]\n",
    "capital= [\"Washington D.C.\",\"Paris\",\"New Delhi\"]\n",
    "\n",
    "zipped = zip (country, capital)\n",
    "\n",
    "d = dict(zipped)\n",
    "\n",
    "d"
   ]
  },
  {
   "cell_type": "markdown",
   "id": "bd955326",
   "metadata": {},
   "source": [
    "# Q10"
   ]
  },
  {
   "cell_type": "code",
   "execution_count": 45,
   "id": "b8c3430b",
   "metadata": {},
   "outputs": [],
   "source": [
    "# 10) Delete set of keys from Python Dictionary\n",
    "# My_dict = {\"Fruit\": \"Pear\",\n",
    "#            \"Vegetable\": \"Carrot\",\n",
    "#            \"Pet\": \"Cat\",\n",
    "#            \"Book\": \"Moby dick\",\n",
    "#            \"Crystal\": \"Amethyst\"}\n",
    "\n",
    "# keysToRemove = [\"Book\", \"Crystal\"]\n",
    "\n",
    "# Answer = {'Fruit': 'Pear', 'Vegetable': 'Carrot', 'Pet': 'Cat'}"
   ]
  },
  {
   "cell_type": "code",
   "execution_count": 48,
   "id": "083843f0",
   "metadata": {},
   "outputs": [
    {
     "data": {
      "text/plain": [
       "{'Fruit': 'Pear', 'Vegetable': 'Carrot', 'Pet': 'Cat'}"
      ]
     },
     "execution_count": 48,
     "metadata": {},
     "output_type": "execute_result"
    }
   ],
   "source": [
    "My_dict = {\"Fruit\": \"Pear\",\n",
    "           \"Vegetable\": \"Carrot\",\n",
    "           \"Pet\": \"Cat\",\n",
    "           \"Book\": \"Moby dick\",\n",
    "           \"Crystal\": \"Amethyst\"}\n",
    "\n",
    "keysToRemove = [\"Book\", \"Crystal\"]\n",
    "\n",
    "My_dict.pop(\"Book\")\n",
    "My_dict.pop(\"Crystal\")\n",
    "\n",
    "My_dict\n"
   ]
  },
  {
   "cell_type": "code",
   "execution_count": 49,
   "id": "d8d401f0",
   "metadata": {},
   "outputs": [
    {
     "data": {
      "text/plain": [
       "{'Fruit': 'Pear', 'Vegetable': 'Carrot', 'Pet': 'Cat'}"
      ]
     },
     "execution_count": 49,
     "metadata": {},
     "output_type": "execute_result"
    }
   ],
   "source": [
    "My_dict = {\"Fruit\": \"Pear\",\n",
    "           \"Vegetable\": \"Carrot\",\n",
    "           \"Pet\": \"Cat\",\n",
    "           \"Book\": \"Moby dick\",\n",
    "           \"Crystal\": \"Amethyst\"}\n",
    "\n",
    "keysToRemove = [\"Book\", \"Crystal\"]\n",
    "\n",
    "for i in keysToRemove:\n",
    "    My_dict.pop(i)\n",
    "    \n",
    "My_dict"
   ]
  },
  {
   "cell_type": "markdown",
   "id": "8830ffdd",
   "metadata": {},
   "source": [
    "# Q11"
   ]
  },
  {
   "cell_type": "code",
   "execution_count": 50,
   "id": "318b7d65",
   "metadata": {},
   "outputs": [],
   "source": [
    "# 11) Create a new dictionary by extracting the following keys from a given dictionary\n",
    "# sub_dict = {'math' : 100, 'chem' : 98, 'sci' : 100,'eng':100}\n",
    "# key_to_extract = {'math', 'chem','sci'}\n",
    "# Answer= extracted key-value from dictionary: {'math': 100, '\n",
    "# sci': 100, 'chem': 98}"
   ]
  },
  {
   "cell_type": "code",
   "execution_count": 58,
   "id": "b478b168",
   "metadata": {},
   "outputs": [
    {
     "name": "stdout",
     "output_type": "stream",
     "text": [
      "extracted key-value from dictionary :  {'sci': 100, 'chem': 98, 'math': 100}\n"
     ]
    }
   ],
   "source": [
    "sub_dict = {'math' : 100, 'chem' : 98, 'sci' : 100,'eng':100}\n",
    "key_to_extract = {'math', 'chem','sci'}\n",
    "\n",
    "exreacted_dict = {key : sub_dict[key] for key in sub_dict.keys() & key_to_extract}\n",
    "\n",
    "print(\"extracted key-value from dictionary : \", exreacted_dict)"
   ]
  },
  {
   "cell_type": "markdown",
   "id": "47b872cf",
   "metadata": {},
   "source": [
    "# Q12"
   ]
  },
  {
   "cell_type": "code",
   "execution_count": 52,
   "id": "9eb72123",
   "metadata": {},
   "outputs": [],
   "source": [
    "# 12) Given a list iterate it and display numbers which are divisible by 5.\n",
    "# list1 = [12, 15, 32, 42, 55, 75, 122, 132, 150, 180, 200]\n",
    "# answer: [15, 55, 75, 150, 180, 200]\n"
   ]
  },
  {
   "cell_type": "code",
   "execution_count": 54,
   "id": "7d579d97",
   "metadata": {},
   "outputs": [
    {
     "data": {
      "text/plain": [
       "[15, 55, 75, 150, 180, 200]"
      ]
     },
     "execution_count": 54,
     "metadata": {},
     "output_type": "execute_result"
    }
   ],
   "source": [
    "list1 = [12, 15, 32, 42, 55, 75, 122, 132, 150, 180, 200]\n",
    "list2 = []\n",
    "for i in list1:\n",
    "    if i%5==0:\n",
    "        list2.append(i)\n",
    "        \n",
    "list2"
   ]
  },
  {
   "cell_type": "markdown",
   "id": "230276f1",
   "metadata": {},
   "source": [
    "# Q13"
   ]
  },
  {
   "cell_type": "code",
   "execution_count": 55,
   "id": "b4f7690e",
   "metadata": {},
   "outputs": [],
   "source": [
    "# 13) Write a program to display only those numbers from a list that satisfy the following\n",
    "# conditions\n",
    "# • The number must be divisible by five\n",
    "# • If the number is greater than 150, then skip it and move to the next number\n",
    "# • If the number is greater than 500, then stop the loop\n",
    "#  numbers = [12, 75, 150, 180, 145, 525, 50]\n",
    "# answer:\n",
    "# 75\n",
    "# 150\n",
    "# 145"
   ]
  },
  {
   "cell_type": "code",
   "execution_count": 61,
   "id": "1008ae60",
   "metadata": {},
   "outputs": [
    {
     "name": "stdout",
     "output_type": "stream",
     "text": [
      "75\n",
      "150\n",
      "145\n"
     ]
    }
   ],
   "source": [
    "numbers = [12, 75, 150, 180, 145, 525, 50]\n",
    "\n",
    "for i in numbers:\n",
    "    if i > 500:\n",
    "        break\n",
    "    elif i > 150:\n",
    "        continue\n",
    "    elif i%5 == 0: \n",
    "        print(i)\n",
    "        "
   ]
  },
  {
   "cell_type": "markdown",
   "id": "6ed0072e",
   "metadata": {},
   "source": [
    "# Q14"
   ]
  },
  {
   "cell_type": "code",
   "execution_count": 57,
   "id": "d2233b95",
   "metadata": {},
   "outputs": [],
   "source": [
    "# 14) Write a Python program to count Uppercase, Lowercase, special character and numeric\n",
    "# values in a given string.\n",
    "# Original Substrings = \"@W3Resource.Com\"\n",
    "# Answer:\n",
    "# Upper case characters: 3\n",
    "# Lower case characters: 9\n",
    "# Number case: 1\n",
    "# Special case characters: 2"
   ]
  },
  {
   "cell_type": "code",
   "execution_count": 62,
   "id": "234dc39d",
   "metadata": {},
   "outputs": [
    {
     "name": "stdout",
     "output_type": "stream",
     "text": [
      "Original Substring = @W3Resource.Com\n",
      "Upper case characters: 3\n",
      "Lower case characters: 9\n",
      "Number case: 1\n",
      "Special case characters: 2\n"
     ]
    }
   ],
   "source": [
    "def count_characters(s):\n",
    "    upper_count = 0\n",
    "    lower_count = 0\n",
    "    number_count = 0\n",
    "    special_count = 0\n",
    "\n",
    "    for char in s:\n",
    "        if char.isupper():\n",
    "            upper_count += 1\n",
    "        elif char.islower():\n",
    "            lower_count += 1\n",
    "        elif char.isdigit():\n",
    "            number_count += 1\n",
    "        else:\n",
    "            special_count += 1\n",
    "\n",
    "    return upper_count, lower_count, number_count, special_count\n",
    "\n",
    "\n",
    "input_string = \"@W3Resource.Com\"\n",
    "upper, lower, number, special = count_characters(input_string)\n",
    "\n",
    "print(\"Original Substring =\", input_string)\n",
    "print(\"Upper case characters:\", upper)\n",
    "print(\"Lower case characters:\", lower)\n",
    "print(\"Number case:\", number)\n",
    "print(\"Special case characters:\", special)\n"
   ]
  },
  {
   "cell_type": "code",
   "execution_count": 63,
   "id": "47089a35",
   "metadata": {},
   "outputs": [
    {
     "name": "stdout",
     "output_type": "stream",
     "text": [
      "Original Substring = @W3Resource.Com\n",
      "Upper case characters: 3\n",
      "Lower case characters: 9\n",
      "Number case: 1\n",
      "Special case characters: 2\n"
     ]
    }
   ],
   "source": [
    "def count_chars(str):\n",
    "    upper_ctr, lower_ctr,number_ctr,special_ctr = 0,0,0,0\n",
    "    \n",
    "    for i in range(len(str)):\n",
    "        if str[i]>= 'A' and str[i]<= 'Z':\n",
    "            upper_ctr += 1\n",
    "        elif str[i]>= 'a' and str[i]<= 'z':\n",
    "            lower_ctr += 1\n",
    "        elif str[i]>= '0' and str[i]<= '9':\n",
    "            number_ctr += 1\n",
    "        else:\n",
    "            special_ctr =+ 1\n",
    "            \n",
    "input_string = \"@W3Resource.Com\"\n",
    "upper, lower, number, special = count_characters(input_string)\n",
    "\n",
    "print(\"Original Substring =\", input_string)\n",
    "print(\"Upper case characters:\", upper)\n",
    "print(\"Lower case characters:\", lower)\n",
    "print(\"Number case:\", number)\n",
    "print(\"Special case characters:\", special)\n"
   ]
  },
  {
   "cell_type": "markdown",
   "id": "b47297ac",
   "metadata": {},
   "source": [
    "# Q15"
   ]
  },
  {
   "cell_type": "code",
   "execution_count": 64,
   "id": "bf810415",
   "metadata": {},
   "outputs": [],
   "source": [
    "# 15) Write a program to calculate the sum of series up to n term. For example, if n =5 the series\n",
    "# will become 2 + 22 + 222 + 2222 + 22222 = 24690\n",
    "# Answer =2+22+222+2222+22222+\n",
    "# Sum of above series is: 24690\n"
   ]
  },
  {
   "cell_type": "code",
   "execution_count": 65,
   "id": "8a2effa6",
   "metadata": {},
   "outputs": [
    {
     "name": "stdout",
     "output_type": "stream",
     "text": [
      "2+22+222+2222+22222+\n",
      "Sum of above series is: 24690\n"
     ]
    }
   ],
   "source": [
    "def calculate_series_sum(n):\n",
    "    term = 2\n",
    "    series_sum = 0\n",
    "\n",
    "    for i in range(1, n + 1):\n",
    "        series_sum += term\n",
    "        print(term, end=\"+\")\n",
    "        term = term * 10 + 2\n",
    "\n",
    "    return series_sum\n",
    "\n",
    "\n",
    "n = 5\n",
    "result = calculate_series_sum(n)\n",
    "\n",
    "print(\"\\nSum of above series is:\", result)\n"
   ]
  },
  {
   "cell_type": "code",
   "execution_count": 66,
   "id": "46844ce6",
   "metadata": {},
   "outputs": [
    {
     "name": "stdout",
     "output_type": "stream",
     "text": [
      "2+22+222+2222+22222+\n",
      "Sum of above series is: 24690\n"
     ]
    }
   ],
   "source": [
    "n = 5\n",
    "start = 2\n",
    "sum_seq = 0\n",
    "\n",
    "for i in range(0,n):\n",
    "    print(start, end=\"+\")\n",
    "    sum_seq+=start\n",
    "    \n",
    "    #calculate the next term\n",
    "    start =  start * 10 + 2\n",
    "    \n",
    "print(\"\\nSum of above series is:\", sum_seq)\n"
   ]
  },
  {
   "cell_type": "code",
   "execution_count": null,
   "id": "0f4f5830",
   "metadata": {},
   "outputs": [],
   "source": []
  }
 ],
 "metadata": {
  "kernelspec": {
   "display_name": "Python 3 (ipykernel)",
   "language": "python",
   "name": "python3"
  },
  "language_info": {
   "codemirror_mode": {
    "name": "ipython",
    "version": 3
   },
   "file_extension": ".py",
   "mimetype": "text/x-python",
   "name": "python",
   "nbconvert_exporter": "python",
   "pygments_lexer": "ipython3",
   "version": "3.11.4"
  }
 },
 "nbformat": 4,
 "nbformat_minor": 5
}
